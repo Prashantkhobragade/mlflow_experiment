{
 "cells": [
  {
   "cell_type": "code",
   "execution_count": 9,
   "metadata": {},
   "outputs": [],
   "source": [
    "#wine quality sample\n",
    "\n",
    "def train(in_alpha, in_lr_ratio):\n",
    "    import logging\n",
    "    import warnings\n",
    "    \n",
    "    import numpy as np\n",
    "    import pandas as pd\n",
    "    from sklearn.linear_model import ElasticNet\n",
    "    from sklearn.metrics import mean_absolute_error, mean_squared_error, r2_score\n",
    "    from sklearn.model_selection import train_test_split\n",
    "    \n",
    "    import mlflow\n",
    "    import mlflow.sklearn\n",
    "    from mlflow.models import infer_signature\n",
    "    \n",
    "    logging.basicConfig(level = logging.WARN)\n",
    "    logger = logging.getLogger(__name__)\n",
    "    \n",
    "    \n",
    "    def eval_metrics(actual, pred):\n",
    "        rmse = np.sqrt(mean_squared_error(actual, pred))\n",
    "        mae = mean_absolute_error(actual, pred)\n",
    "        r2 = r2_score(actual, pred)\n",
    "        return rmse, mae, r2\n",
    "    \n",
    "    warnings.filterwarnings(\"ignore\")\n",
    "    np.random.seed(40)\n",
    "    \n",
    "    #read the data\n",
    "    \n",
    "    csv_url = (\n",
    "        \"http://archive.ics.uci.edu/ml/machine-learning-databases/wine-quality/winequality-red.csv\"\n",
    "\n",
    "    )\n",
    "    try:\n",
    "        data = pd.read_csv(csv_url, sep=\";\")\n",
    "    except Exception as e:\n",
    "        logger.exception(\n",
    "            \"unable to downlod the data. Error: %s\", e\n",
    "        )\n",
    "        \n",
    "    #split the data\n",
    "    train, test = train_test_split(data, test_size=0.20, random_state=42)\n",
    "    \n",
    "    #prediction column is quantity \n",
    "    train_x = train.drop([\"quality\"], axis=1)\n",
    "    test_x = test.drop([\"quality\"], axis=1)\n",
    "    train_y = train[[\"quality\"]]\n",
    "    test_y = test[[\"quality\"]]\n",
    "    \n",
    "    #set default values if no alpha and l1_ratio provided\n",
    "    if float(in_alpha) is None:\n",
    "        alpha = 0.5\n",
    "    else:\n",
    "        alpha = float(in_alpha)\n",
    "        \n",
    "    if float(in_lr_ratio) is None:\n",
    "        l1_ratio = 0.5\n",
    "    else:\n",
    "        l1_ratio = float(in_lr_ratio)\n",
    "        \n",
    "    #mlflow\n",
    "    with mlflow.start_run():\n",
    "        lr = ElasticNet(alpha=alpha, l1_ratio=l1_ratio, random_state=42)\n",
    "        lr.fit(train_x, train_y)\n",
    "        \n",
    "        #evaluate Metrics\n",
    "        predicted_qualities = lr.predict(test_x)\n",
    "        (rmse, mae, r2) = eval_metrics(test_y, predicted_qualities)\n",
    "        \n",
    "        #print out metrics\n",
    "        print(f\"ElasticNet Model (alpha={alpha:f}, l1_ratio = {l1_ratio:f}):\")\n",
    "        print(\" RMSE: %s\" % rmse)\n",
    "        print(\" MAE : %s\" % mae)\n",
    "        print(\" R2: %s\" % r2)\n",
    "        \n",
    "        #infer model signature\n",
    "        predictions = lr.predict(train_x)\n",
    "        signature = infer_signature(train_x, predictions)\n",
    "        \n",
    "        #log parameter, metrics and model with mlflow\n",
    "        \n",
    "        mlflow.log_param(\"alpha\", alpha)\n",
    "        mlflow.log_param(\"l1_ratio\", l1_ratio)\n",
    "        mlflow.log_metric(\"rmse\", rmse)\n",
    "        mlflow.log_metric(\"r2\", r2)\n",
    "        mlflow.log_metric(\"mae\", mae)\n",
    "        \n",
    "        mlflow.sklearn.log_model(lr, \"model\", signature=signature)\n",
    "    \n",
    "    \n",
    "    "
   ]
  },
  {
   "cell_type": "code",
   "execution_count": 10,
   "metadata": {},
   "outputs": [
    {
     "name": "stdout",
     "output_type": "stream",
     "text": [
      "ElasticNet Model (alpha=0.500000, l1_ratio = 0.500000):\n",
      " RMSE: 0.762794521686023\n",
      " MAE : 0.6188630472018415\n",
      " R2: 0.10963999179642603\n"
     ]
    }
   ],
   "source": [
    "train(0.5,0.5)"
   ]
  },
  {
   "cell_type": "code",
   "execution_count": 11,
   "metadata": {},
   "outputs": [
    {
     "name": "stdout",
     "output_type": "stream",
     "text": [
      "ElasticNet Model (alpha=0.200000, l1_ratio = 0.800000):\n",
      " RMSE: 0.7265642494268115\n",
      " MAE : 0.5845090917094489\n",
      " R2: 0.1922098310640783\n"
     ]
    }
   ],
   "source": [
    "train(0.2,0.8)"
   ]
  },
  {
   "cell_type": "code",
   "execution_count": 12,
   "metadata": {},
   "outputs": [
    {
     "name": "stdout",
     "output_type": "stream",
     "text": [
      "ElasticNet Model (alpha=0.200000, l1_ratio = 0.100000):\n",
      " RMSE: 0.6929185588573523\n",
      " MAE : 0.5543829927884041\n",
      " R2: 0.2652917761622785\n"
     ]
    }
   ],
   "source": [
    "train(0.2,0.1)"
   ]
  },
  {
   "cell_type": "code",
   "execution_count": null,
   "metadata": {},
   "outputs": [],
   "source": []
  }
 ],
 "metadata": {
  "kernelspec": {
   "display_name": "Python 3",
   "language": "python",
   "name": "python3"
  },
  "language_info": {
   "codemirror_mode": {
    "name": "ipython",
    "version": 3
   },
   "file_extension": ".py",
   "mimetype": "text/x-python",
   "name": "python",
   "nbconvert_exporter": "python",
   "pygments_lexer": "ipython3",
   "version": "3.10.0"
  }
 },
 "nbformat": 4,
 "nbformat_minor": 2
}
